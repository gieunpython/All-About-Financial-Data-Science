{
  "nbformat": 4,
  "nbformat_minor": 0,
  "metadata": {
    "colab": {
      "provenance": [],
      "authorship_tag": "ABX9TyNIH6d78iwIOakqSuHn4eTP",
      "include_colab_link": true
    },
    "kernelspec": {
      "name": "python3",
      "display_name": "Python 3"
    },
    "language_info": {
      "name": "python"
    }
  },
  "cells": [
    {
      "cell_type": "markdown",
      "metadata": {
        "id": "view-in-github",
        "colab_type": "text"
      },
      "source": [
        "<a href=\"https://colab.research.google.com/github/gieunpython/All-About-Financial-Data-Science/blob/main/VARMODEL.ipynb\" target=\"_parent\"><img src=\"https://colab.research.google.com/assets/colab-badge.svg\" alt=\"Open In Colab\"/></a>"
      ]
    },
    {
      "cell_type": "code",
      "source": [
        "!pip install pandas\n",
        "!pip install numpy\n",
        "!pip install yfinance\n",
        "!pip install fredapi\n",
        "!pip install --user pmdarima\n",
        "!pip install statsmodels"
      ],
      "metadata": {
        "colab": {
          "base_uri": "https://localhost:8080/"
        },
        "id": "ie_roeyL08eg",
        "outputId": "70c0b090-bf50-426a-85e7-45f921478928"
      },
      "execution_count": null,
      "outputs": [
        {
          "output_type": "stream",
          "name": "stdout",
          "text": [
            "Looking in indexes: https://pypi.org/simple, https://us-python.pkg.dev/colab-wheels/public/simple/\n",
            "Requirement already satisfied: pandas in /usr/local/lib/python3.9/dist-packages (1.4.4)\n",
            "Requirement already satisfied: numpy>=1.18.5 in /usr/local/lib/python3.9/dist-packages (from pandas) (1.24.2)\n",
            "Requirement already satisfied: pytz>=2020.1 in /usr/local/lib/python3.9/dist-packages (from pandas) (2022.7.1)\n",
            "Requirement already satisfied: python-dateutil>=2.8.1 in /usr/local/lib/python3.9/dist-packages (from pandas) (2.8.2)\n",
            "Requirement already satisfied: six>=1.5 in /usr/local/lib/python3.9/dist-packages (from python-dateutil>=2.8.1->pandas) (1.16.0)\n",
            "Looking in indexes: https://pypi.org/simple, https://us-python.pkg.dev/colab-wheels/public/simple/\n",
            "Requirement already satisfied: numpy in /usr/local/lib/python3.9/dist-packages (1.24.2)\n",
            "Looking in indexes: https://pypi.org/simple, https://us-python.pkg.dev/colab-wheels/public/simple/\n",
            "Requirement already satisfied: yfinance in /usr/local/lib/python3.9/dist-packages (0.2.13)\n",
            "Requirement already satisfied: pytz>=2022.5 in /usr/local/lib/python3.9/dist-packages (from yfinance) (2022.7.1)\n",
            "Requirement already satisfied: numpy>=1.16.5 in /usr/local/lib/python3.9/dist-packages (from yfinance) (1.24.2)\n",
            "Requirement already satisfied: multitasking>=0.0.7 in /usr/local/lib/python3.9/dist-packages (from yfinance) (0.0.11)\n",
            "Requirement already satisfied: appdirs>=1.4.4 in /usr/local/lib/python3.9/dist-packages (from yfinance) (1.4.4)\n",
            "Requirement already satisfied: frozendict>=2.3.4 in /usr/local/lib/python3.9/dist-packages (from yfinance) (2.3.6)\n",
            "Requirement already satisfied: lxml>=4.9.1 in /usr/local/lib/python3.9/dist-packages (from yfinance) (4.9.2)\n",
            "Requirement already satisfied: requests>=2.26 in /usr/local/lib/python3.9/dist-packages (from yfinance) (2.27.1)\n",
            "Requirement already satisfied: cryptography>=3.3.2 in /usr/local/lib/python3.9/dist-packages (from yfinance) (39.0.2)\n",
            "Requirement already satisfied: beautifulsoup4>=4.11.1 in /usr/local/lib/python3.9/dist-packages (from yfinance) (4.11.2)\n",
            "Requirement already satisfied: pandas>=1.3.0 in /usr/local/lib/python3.9/dist-packages (from yfinance) (1.4.4)\n",
            "Requirement already satisfied: html5lib>=1.1 in /usr/local/lib/python3.9/dist-packages (from yfinance) (1.1)\n",
            "Requirement already satisfied: soupsieve>1.2 in /usr/local/lib/python3.9/dist-packages (from beautifulsoup4>=4.11.1->yfinance) (2.4)\n",
            "Requirement already satisfied: cffi>=1.12 in /usr/local/lib/python3.9/dist-packages (from cryptography>=3.3.2->yfinance) (1.15.1)\n",
            "Requirement already satisfied: six>=1.9 in /usr/local/lib/python3.9/dist-packages (from html5lib>=1.1->yfinance) (1.16.0)\n",
            "Requirement already satisfied: webencodings in /usr/local/lib/python3.9/dist-packages (from html5lib>=1.1->yfinance) (0.5.1)\n",
            "Requirement already satisfied: python-dateutil>=2.8.1 in /usr/local/lib/python3.9/dist-packages (from pandas>=1.3.0->yfinance) (2.8.2)\n",
            "Requirement already satisfied: idna<4,>=2.5 in /usr/local/lib/python3.9/dist-packages (from requests>=2.26->yfinance) (3.4)\n",
            "Requirement already satisfied: certifi>=2017.4.17 in /usr/local/lib/python3.9/dist-packages (from requests>=2.26->yfinance) (2022.12.7)\n",
            "Requirement already satisfied: urllib3<1.27,>=1.21.1 in /usr/local/lib/python3.9/dist-packages (from requests>=2.26->yfinance) (1.26.15)\n",
            "Requirement already satisfied: charset-normalizer~=2.0.0 in /usr/local/lib/python3.9/dist-packages (from requests>=2.26->yfinance) (2.0.12)\n",
            "Requirement already satisfied: pycparser in /usr/local/lib/python3.9/dist-packages (from cffi>=1.12->cryptography>=3.3.2->yfinance) (2.21)\n",
            "Looking in indexes: https://pypi.org/simple, https://us-python.pkg.dev/colab-wheels/public/simple/\n",
            "Requirement already satisfied: fredapi in /usr/local/lib/python3.9/dist-packages (0.5.0)\n",
            "Requirement already satisfied: pandas in /usr/local/lib/python3.9/dist-packages (from fredapi) (1.4.4)\n",
            "Requirement already satisfied: numpy>=1.18.5 in /usr/local/lib/python3.9/dist-packages (from pandas->fredapi) (1.24.2)\n",
            "Requirement already satisfied: python-dateutil>=2.8.1 in /usr/local/lib/python3.9/dist-packages (from pandas->fredapi) (2.8.2)\n",
            "Requirement already satisfied: pytz>=2020.1 in /usr/local/lib/python3.9/dist-packages (from pandas->fredapi) (2022.7.1)\n",
            "Requirement already satisfied: six>=1.5 in /usr/local/lib/python3.9/dist-packages (from python-dateutil>=2.8.1->pandas->fredapi) (1.16.0)\n",
            "Looking in indexes: https://pypi.org/simple, https://us-python.pkg.dev/colab-wheels/public/simple/\n",
            "Requirement already satisfied: pmdarima in /root/.local/lib/python3.9/site-packages (2.0.3)\n",
            "Requirement already satisfied: Cython!=0.29.18,!=0.29.31,>=0.29 in /usr/local/lib/python3.9/dist-packages (from pmdarima) (0.29.33)\n",
            "Requirement already satisfied: joblib>=0.11 in /usr/local/lib/python3.9/dist-packages (from pmdarima) (1.1.1)\n",
            "Requirement already satisfied: statsmodels>=0.13.2 in /usr/local/lib/python3.9/dist-packages (from pmdarima) (0.13.5)\n",
            "Requirement already satisfied: scikit-learn>=0.22 in /usr/local/lib/python3.9/dist-packages (from pmdarima) (1.2.2)\n",
            "Requirement already satisfied: setuptools!=50.0.0,>=38.6.0 in /usr/local/lib/python3.9/dist-packages (from pmdarima) (67.6.0)\n",
            "Requirement already satisfied: numpy>=1.21.2 in /usr/local/lib/python3.9/dist-packages (from pmdarima) (1.24.2)\n",
            "Requirement already satisfied: urllib3 in /usr/local/lib/python3.9/dist-packages (from pmdarima) (1.26.15)\n",
            "Requirement already satisfied: scipy>=1.3.2 in /usr/local/lib/python3.9/dist-packages (from pmdarima) (1.10.1)\n",
            "Requirement already satisfied: pandas>=0.19 in /usr/local/lib/python3.9/dist-packages (from pmdarima) (1.4.4)\n",
            "Requirement already satisfied: python-dateutil>=2.8.1 in /usr/local/lib/python3.9/dist-packages (from pandas>=0.19->pmdarima) (2.8.2)\n",
            "Requirement already satisfied: pytz>=2020.1 in /usr/local/lib/python3.9/dist-packages (from pandas>=0.19->pmdarima) (2022.7.1)\n",
            "Requirement already satisfied: threadpoolctl>=2.0.0 in /usr/local/lib/python3.9/dist-packages (from scikit-learn>=0.22->pmdarima) (3.1.0)\n",
            "Requirement already satisfied: packaging>=21.3 in /usr/local/lib/python3.9/dist-packages (from statsmodels>=0.13.2->pmdarima) (23.0)\n",
            "Requirement already satisfied: patsy>=0.5.2 in /usr/local/lib/python3.9/dist-packages (from statsmodels>=0.13.2->pmdarima) (0.5.3)\n",
            "Requirement already satisfied: six in /usr/local/lib/python3.9/dist-packages (from patsy>=0.5.2->statsmodels>=0.13.2->pmdarima) (1.16.0)\n",
            "Looking in indexes: https://pypi.org/simple, https://us-python.pkg.dev/colab-wheels/public/simple/\n",
            "Requirement already satisfied: statsmodels in /usr/local/lib/python3.9/dist-packages (0.13.5)\n",
            "Requirement already satisfied: patsy>=0.5.2 in /usr/local/lib/python3.9/dist-packages (from statsmodels) (0.5.3)\n",
            "Requirement already satisfied: packaging>=21.3 in /usr/local/lib/python3.9/dist-packages (from statsmodels) (23.0)\n",
            "Requirement already satisfied: numpy>=1.17 in /usr/local/lib/python3.9/dist-packages (from statsmodels) (1.24.2)\n",
            "Requirement already satisfied: scipy>=1.3 in /usr/local/lib/python3.9/dist-packages (from statsmodels) (1.10.1)\n",
            "Requirement already satisfied: pandas>=0.25 in /usr/local/lib/python3.9/dist-packages (from statsmodels) (1.4.4)\n",
            "Requirement already satisfied: python-dateutil>=2.8.1 in /usr/local/lib/python3.9/dist-packages (from pandas>=0.25->statsmodels) (2.8.2)\n",
            "Requirement already satisfied: pytz>=2020.1 in /usr/local/lib/python3.9/dist-packages (from pandas>=0.25->statsmodels) (2022.7.1)\n",
            "Requirement already satisfied: six in /usr/local/lib/python3.9/dist-packages (from patsy>=0.5.2->statsmodels) (1.16.0)\n"
          ]
        }
      ]
    },
    {
      "cell_type": "code",
      "source": [
        "!pip install -U numpy\n"
      ],
      "metadata": {
        "colab": {
          "base_uri": "https://localhost:8080/"
        },
        "id": "2bH-S2-L04Me",
        "outputId": "41220eaf-f410-4abd-a362-0b7ea145f881"
      },
      "execution_count": null,
      "outputs": [
        {
          "output_type": "stream",
          "name": "stdout",
          "text": [
            "Looking in indexes: https://pypi.org/simple, https://us-python.pkg.dev/colab-wheels/public/simple/\n",
            "Requirement already satisfied: numpy in /usr/local/lib/python3.9/dist-packages (1.24.2)\n"
          ]
        }
      ]
    },
    {
      "cell_type": "code",
      "source": [
        "from statsmodels.tsa.vector_ar.var_model import VARProcess, VAR\n",
        "from statsmodels.tsa.vector_ar.util import varsim\n"
      ],
      "metadata": {
        "id": "_bY5aZMtytpT"
      },
      "execution_count": null,
      "outputs": []
    },
    {
      "cell_type": "code",
      "source": [
        "from google.colab import drive\n",
        "drive.mount('/content/drive')"
      ],
      "metadata": {
        "id": "rwfXeePZvs8o",
        "colab": {
          "base_uri": "https://localhost:8080/",
          "height": 328
        },
        "outputId": "7225bc0a-e5f5-4849-d1df-173e6937775a"
      },
      "execution_count": null,
      "outputs": [
        {
          "output_type": "error",
          "ename": "MessageError",
          "evalue": "ignored",
          "traceback": [
            "\u001b[0;31m---------------------------------------------------------------------------\u001b[0m",
            "\u001b[0;31mMessageError\u001b[0m                              Traceback (most recent call last)",
            "\u001b[0;32m<ipython-input-218-d5df0069828e>\u001b[0m in \u001b[0;36m<module>\u001b[0;34m\u001b[0m\n\u001b[1;32m      1\u001b[0m \u001b[0;32mfrom\u001b[0m \u001b[0mgoogle\u001b[0m\u001b[0;34m.\u001b[0m\u001b[0mcolab\u001b[0m \u001b[0;32mimport\u001b[0m \u001b[0mdrive\u001b[0m\u001b[0;34m\u001b[0m\u001b[0;34m\u001b[0m\u001b[0m\n\u001b[0;32m----> 2\u001b[0;31m \u001b[0mdrive\u001b[0m\u001b[0;34m.\u001b[0m\u001b[0mmount\u001b[0m\u001b[0;34m(\u001b[0m\u001b[0;34m'/content/drive'\u001b[0m\u001b[0;34m)\u001b[0m\u001b[0;34m\u001b[0m\u001b[0;34m\u001b[0m\u001b[0m\n\u001b[0m",
            "\u001b[0;32m/usr/local/lib/python3.9/dist-packages/google/colab/drive.py\u001b[0m in \u001b[0;36mmount\u001b[0;34m(mountpoint, force_remount, timeout_ms, readonly)\u001b[0m\n\u001b[1;32m    101\u001b[0m \u001b[0;32mdef\u001b[0m \u001b[0mmount\u001b[0m\u001b[0;34m(\u001b[0m\u001b[0mmountpoint\u001b[0m\u001b[0;34m,\u001b[0m \u001b[0mforce_remount\u001b[0m\u001b[0;34m=\u001b[0m\u001b[0;32mFalse\u001b[0m\u001b[0;34m,\u001b[0m \u001b[0mtimeout_ms\u001b[0m\u001b[0;34m=\u001b[0m\u001b[0;36m120000\u001b[0m\u001b[0;34m,\u001b[0m \u001b[0mreadonly\u001b[0m\u001b[0;34m=\u001b[0m\u001b[0;32mFalse\u001b[0m\u001b[0;34m)\u001b[0m\u001b[0;34m:\u001b[0m\u001b[0;34m\u001b[0m\u001b[0;34m\u001b[0m\u001b[0m\n\u001b[1;32m    102\u001b[0m   \u001b[0;34m\"\"\"Mount your Google Drive at the specified mountpoint path.\"\"\"\u001b[0m\u001b[0;34m\u001b[0m\u001b[0;34m\u001b[0m\u001b[0m\n\u001b[0;32m--> 103\u001b[0;31m   return _mount(\n\u001b[0m\u001b[1;32m    104\u001b[0m       \u001b[0mmountpoint\u001b[0m\u001b[0;34m,\u001b[0m\u001b[0;34m\u001b[0m\u001b[0;34m\u001b[0m\u001b[0m\n\u001b[1;32m    105\u001b[0m       \u001b[0mforce_remount\u001b[0m\u001b[0;34m=\u001b[0m\u001b[0mforce_remount\u001b[0m\u001b[0;34m,\u001b[0m\u001b[0;34m\u001b[0m\u001b[0;34m\u001b[0m\u001b[0m\n",
            "\u001b[0;32m/usr/local/lib/python3.9/dist-packages/google/colab/drive.py\u001b[0m in \u001b[0;36m_mount\u001b[0;34m(mountpoint, force_remount, timeout_ms, ephemeral, readonly)\u001b[0m\n\u001b[1;32m    130\u001b[0m   )\n\u001b[1;32m    131\u001b[0m   \u001b[0;32mif\u001b[0m \u001b[0mephemeral\u001b[0m\u001b[0;34m:\u001b[0m\u001b[0;34m\u001b[0m\u001b[0;34m\u001b[0m\u001b[0m\n\u001b[0;32m--> 132\u001b[0;31m     _message.blocking_request(\n\u001b[0m\u001b[1;32m    133\u001b[0m         \u001b[0;34m'request_auth'\u001b[0m\u001b[0;34m,\u001b[0m \u001b[0mrequest\u001b[0m\u001b[0;34m=\u001b[0m\u001b[0;34m{\u001b[0m\u001b[0;34m'authType'\u001b[0m\u001b[0;34m:\u001b[0m \u001b[0;34m'dfs_ephemeral'\u001b[0m\u001b[0;34m}\u001b[0m\u001b[0;34m,\u001b[0m \u001b[0mtimeout_sec\u001b[0m\u001b[0;34m=\u001b[0m\u001b[0;32mNone\u001b[0m\u001b[0;34m\u001b[0m\u001b[0;34m\u001b[0m\u001b[0m\n\u001b[1;32m    134\u001b[0m     )\n",
            "\u001b[0;32m/usr/local/lib/python3.9/dist-packages/google/colab/_message.py\u001b[0m in \u001b[0;36mblocking_request\u001b[0;34m(request_type, request, timeout_sec, parent)\u001b[0m\n\u001b[1;32m    175\u001b[0m       \u001b[0mrequest_type\u001b[0m\u001b[0;34m,\u001b[0m \u001b[0mrequest\u001b[0m\u001b[0;34m,\u001b[0m \u001b[0mparent\u001b[0m\u001b[0;34m=\u001b[0m\u001b[0mparent\u001b[0m\u001b[0;34m,\u001b[0m \u001b[0mexpect_reply\u001b[0m\u001b[0;34m=\u001b[0m\u001b[0;32mTrue\u001b[0m\u001b[0;34m\u001b[0m\u001b[0;34m\u001b[0m\u001b[0m\n\u001b[1;32m    176\u001b[0m   )\n\u001b[0;32m--> 177\u001b[0;31m   \u001b[0;32mreturn\u001b[0m \u001b[0mread_reply_from_input\u001b[0m\u001b[0;34m(\u001b[0m\u001b[0mrequest_id\u001b[0m\u001b[0;34m,\u001b[0m \u001b[0mtimeout_sec\u001b[0m\u001b[0;34m)\u001b[0m\u001b[0;34m\u001b[0m\u001b[0;34m\u001b[0m\u001b[0m\n\u001b[0m",
            "\u001b[0;32m/usr/local/lib/python3.9/dist-packages/google/colab/_message.py\u001b[0m in \u001b[0;36mread_reply_from_input\u001b[0;34m(message_id, timeout_sec)\u001b[0m\n\u001b[1;32m    102\u001b[0m     ):\n\u001b[1;32m    103\u001b[0m       \u001b[0;32mif\u001b[0m \u001b[0;34m'error'\u001b[0m \u001b[0;32min\u001b[0m \u001b[0mreply\u001b[0m\u001b[0;34m:\u001b[0m\u001b[0;34m\u001b[0m\u001b[0;34m\u001b[0m\u001b[0m\n\u001b[0;32m--> 104\u001b[0;31m         \u001b[0;32mraise\u001b[0m \u001b[0mMessageError\u001b[0m\u001b[0;34m(\u001b[0m\u001b[0mreply\u001b[0m\u001b[0;34m[\u001b[0m\u001b[0;34m'error'\u001b[0m\u001b[0;34m]\u001b[0m\u001b[0;34m)\u001b[0m\u001b[0;34m\u001b[0m\u001b[0;34m\u001b[0m\u001b[0m\n\u001b[0m\u001b[1;32m    105\u001b[0m       \u001b[0;32mreturn\u001b[0m \u001b[0mreply\u001b[0m\u001b[0;34m.\u001b[0m\u001b[0mget\u001b[0m\u001b[0;34m(\u001b[0m\u001b[0;34m'data'\u001b[0m\u001b[0;34m,\u001b[0m \u001b[0;32mNone\u001b[0m\u001b[0;34m)\u001b[0m\u001b[0;34m\u001b[0m\u001b[0;34m\u001b[0m\u001b[0m\n\u001b[1;32m    106\u001b[0m \u001b[0;34m\u001b[0m\u001b[0m\n",
            "\u001b[0;31mMessageError\u001b[0m: Error: credential propagation was unsuccessful"
          ]
        }
      ]
    },
    {
      "cell_type": "code",
      "execution_count": null,
      "metadata": {
        "id": "K11bLClEzdT0"
      },
      "outputs": [],
      "source": [
        "import pandas as pd\n",
        "import numpy as np\n",
        "import matplotlib.pyplot as plt\n",
        "import plotly.express as px\n",
        "from fredapi import Fred\n",
        "import yfinance as yf\n",
        "import statsmodels as sm\n",
        "plt.style.use('fivethirtyeight')\n",
        "color_pal = plt.rcParams[\"axes.prop_cycle\"].by_key()[\"color\"]\n",
        "fred_key = '55d14dbd8386ff121467f942783e54d4 '"
      ]
    },
    {
      "cell_type": "code",
      "source": [
        "df = pd.read_csv('United Kingdom 3-Month Bond Yield Historical Data.csv', index_col=0)\n",
        "df1 = pd.read_csv('United Kingdom 10-Year Bond Yield Historical Data.csv', index_col=0)\n",
        "df2 = pd.read_csv('United States 10-Year Bond Yield Historical Data.csv', index_col=0)\n",
        "df3 = pd.read_csv('British Pound Futures Historical Data.csv', index_col=0)\n"
      ],
      "metadata": {
        "id": "-J4tqwy0KSVJ"
      },
      "execution_count": null,
      "outputs": []
    },
    {
      "cell_type": "code",
      "source": [
        "ticker = \"GBPUSD=X\"\n",
        "\n",
        "gbpusd_hist = yf.download(ticker, start=\"2020-03-01\", end=\"2023-03-23\")\n"
      ],
      "metadata": {
        "id": "OaAJPaw7eAn5",
        "colab": {
          "base_uri": "https://localhost:8080/"
        },
        "outputId": "6078921d-b928-423c-c110-366946447798"
      },
      "execution_count": null,
      "outputs": [
        {
          "output_type": "stream",
          "name": "stdout",
          "text": [
            "\r[*********************100%***********************]  1 of 1 completed\n"
          ]
        }
      ]
    },
    {
      "cell_type": "code",
      "source": [
        "ticker1 = \"^IRX\"\n",
        "\n",
        "us3mby_raw = yf.download(ticker1, start=\"2020-03-01\", end=\"2023-03-23\")"
      ],
      "metadata": {
        "colab": {
          "base_uri": "https://localhost:8080/"
        },
        "id": "bHCiK1SFhoye",
        "outputId": "21390762-a0db-4b5d-a060-a163ee73b9d6"
      },
      "execution_count": null,
      "outputs": [
        {
          "output_type": "stream",
          "name": "stdout",
          "text": [
            "\r[*********************100%***********************]  1 of 1 completed\n"
          ]
        }
      ]
    },
    {
      "cell_type": "code",
      "source": [
        "us3mby_raw"
      ],
      "metadata": {
        "id": "JFtIVSic6k24",
        "colab": {
          "base_uri": "https://localhost:8080/",
          "height": 455
        },
        "outputId": "4cf26a79-0dcd-48d4-c79e-006261c1f5c2"
      },
      "execution_count": null,
      "outputs": [
        {
          "output_type": "execute_result",
          "data": {
            "text/plain": [
              "             Open   High    Low  Close  Adj Close  Volume\n",
              "Date                                                     \n",
              "2020-03-02  1.090  1.158  1.090  1.135      1.135       0\n",
              "2020-03-03  1.143  1.153  0.855  0.918      0.918       0\n",
              "2020-03-04  0.848  0.850  0.675  0.675      0.675       0\n",
              "2020-03-05  0.655  0.655  0.578  0.595      0.595       0\n",
              "2020-03-06  0.403  0.428  0.325  0.415      0.415       0\n",
              "...           ...    ...    ...    ...        ...     ...\n",
              "2023-03-16  4.570  4.595  4.455  4.530      4.530       0\n",
              "2023-03-17  4.505  4.510  4.248  4.293      4.293       0\n",
              "2023-03-20  4.258  4.470  4.258  4.465      4.465       0\n",
              "2023-03-21  4.668  4.678  4.545  4.605      4.605       0\n",
              "2023-03-22  4.610  4.615  4.500  4.563      4.563       0\n",
              "\n",
              "[771 rows x 6 columns]"
            ],
            "text/html": [
              "\n",
              "  <div id=\"df-d29f4655-769e-4e7c-b524-43529885e793\">\n",
              "    <div class=\"colab-df-container\">\n",
              "      <div>\n",
              "<style scoped>\n",
              "    .dataframe tbody tr th:only-of-type {\n",
              "        vertical-align: middle;\n",
              "    }\n",
              "\n",
              "    .dataframe tbody tr th {\n",
              "        vertical-align: top;\n",
              "    }\n",
              "\n",
              "    .dataframe thead th {\n",
              "        text-align: right;\n",
              "    }\n",
              "</style>\n",
              "<table border=\"1\" class=\"dataframe\">\n",
              "  <thead>\n",
              "    <tr style=\"text-align: right;\">\n",
              "      <th></th>\n",
              "      <th>Open</th>\n",
              "      <th>High</th>\n",
              "      <th>Low</th>\n",
              "      <th>Close</th>\n",
              "      <th>Adj Close</th>\n",
              "      <th>Volume</th>\n",
              "    </tr>\n",
              "    <tr>\n",
              "      <th>Date</th>\n",
              "      <th></th>\n",
              "      <th></th>\n",
              "      <th></th>\n",
              "      <th></th>\n",
              "      <th></th>\n",
              "      <th></th>\n",
              "    </tr>\n",
              "  </thead>\n",
              "  <tbody>\n",
              "    <tr>\n",
              "      <th>2020-03-02</th>\n",
              "      <td>1.090</td>\n",
              "      <td>1.158</td>\n",
              "      <td>1.090</td>\n",
              "      <td>1.135</td>\n",
              "      <td>1.135</td>\n",
              "      <td>0</td>\n",
              "    </tr>\n",
              "    <tr>\n",
              "      <th>2020-03-03</th>\n",
              "      <td>1.143</td>\n",
              "      <td>1.153</td>\n",
              "      <td>0.855</td>\n",
              "      <td>0.918</td>\n",
              "      <td>0.918</td>\n",
              "      <td>0</td>\n",
              "    </tr>\n",
              "    <tr>\n",
              "      <th>2020-03-04</th>\n",
              "      <td>0.848</td>\n",
              "      <td>0.850</td>\n",
              "      <td>0.675</td>\n",
              "      <td>0.675</td>\n",
              "      <td>0.675</td>\n",
              "      <td>0</td>\n",
              "    </tr>\n",
              "    <tr>\n",
              "      <th>2020-03-05</th>\n",
              "      <td>0.655</td>\n",
              "      <td>0.655</td>\n",
              "      <td>0.578</td>\n",
              "      <td>0.595</td>\n",
              "      <td>0.595</td>\n",
              "      <td>0</td>\n",
              "    </tr>\n",
              "    <tr>\n",
              "      <th>2020-03-06</th>\n",
              "      <td>0.403</td>\n",
              "      <td>0.428</td>\n",
              "      <td>0.325</td>\n",
              "      <td>0.415</td>\n",
              "      <td>0.415</td>\n",
              "      <td>0</td>\n",
              "    </tr>\n",
              "    <tr>\n",
              "      <th>...</th>\n",
              "      <td>...</td>\n",
              "      <td>...</td>\n",
              "      <td>...</td>\n",
              "      <td>...</td>\n",
              "      <td>...</td>\n",
              "      <td>...</td>\n",
              "    </tr>\n",
              "    <tr>\n",
              "      <th>2023-03-16</th>\n",
              "      <td>4.570</td>\n",
              "      <td>4.595</td>\n",
              "      <td>4.455</td>\n",
              "      <td>4.530</td>\n",
              "      <td>4.530</td>\n",
              "      <td>0</td>\n",
              "    </tr>\n",
              "    <tr>\n",
              "      <th>2023-03-17</th>\n",
              "      <td>4.505</td>\n",
              "      <td>4.510</td>\n",
              "      <td>4.248</td>\n",
              "      <td>4.293</td>\n",
              "      <td>4.293</td>\n",
              "      <td>0</td>\n",
              "    </tr>\n",
              "    <tr>\n",
              "      <th>2023-03-20</th>\n",
              "      <td>4.258</td>\n",
              "      <td>4.470</td>\n",
              "      <td>4.258</td>\n",
              "      <td>4.465</td>\n",
              "      <td>4.465</td>\n",
              "      <td>0</td>\n",
              "    </tr>\n",
              "    <tr>\n",
              "      <th>2023-03-21</th>\n",
              "      <td>4.668</td>\n",
              "      <td>4.678</td>\n",
              "      <td>4.545</td>\n",
              "      <td>4.605</td>\n",
              "      <td>4.605</td>\n",
              "      <td>0</td>\n",
              "    </tr>\n",
              "    <tr>\n",
              "      <th>2023-03-22</th>\n",
              "      <td>4.610</td>\n",
              "      <td>4.615</td>\n",
              "      <td>4.500</td>\n",
              "      <td>4.563</td>\n",
              "      <td>4.563</td>\n",
              "      <td>0</td>\n",
              "    </tr>\n",
              "  </tbody>\n",
              "</table>\n",
              "<p>771 rows × 6 columns</p>\n",
              "</div>\n",
              "      <button class=\"colab-df-convert\" onclick=\"convertToInteractive('df-d29f4655-769e-4e7c-b524-43529885e793')\"\n",
              "              title=\"Convert this dataframe to an interactive table.\"\n",
              "              style=\"display:none;\">\n",
              "        \n",
              "  <svg xmlns=\"http://www.w3.org/2000/svg\" height=\"24px\"viewBox=\"0 0 24 24\"\n",
              "       width=\"24px\">\n",
              "    <path d=\"M0 0h24v24H0V0z\" fill=\"none\"/>\n",
              "    <path d=\"M18.56 5.44l.94 2.06.94-2.06 2.06-.94-2.06-.94-.94-2.06-.94 2.06-2.06.94zm-11 1L8.5 8.5l.94-2.06 2.06-.94-2.06-.94L8.5 2.5l-.94 2.06-2.06.94zm10 10l.94 2.06.94-2.06 2.06-.94-2.06-.94-.94-2.06-.94 2.06-2.06.94z\"/><path d=\"M17.41 7.96l-1.37-1.37c-.4-.4-.92-.59-1.43-.59-.52 0-1.04.2-1.43.59L10.3 9.45l-7.72 7.72c-.78.78-.78 2.05 0 2.83L4 21.41c.39.39.9.59 1.41.59.51 0 1.02-.2 1.41-.59l7.78-7.78 2.81-2.81c.8-.78.8-2.07 0-2.86zM5.41 20L4 18.59l7.72-7.72 1.47 1.35L5.41 20z\"/>\n",
              "  </svg>\n",
              "      </button>\n",
              "      \n",
              "  <style>\n",
              "    .colab-df-container {\n",
              "      display:flex;\n",
              "      flex-wrap:wrap;\n",
              "      gap: 12px;\n",
              "    }\n",
              "\n",
              "    .colab-df-convert {\n",
              "      background-color: #E8F0FE;\n",
              "      border: none;\n",
              "      border-radius: 50%;\n",
              "      cursor: pointer;\n",
              "      display: none;\n",
              "      fill: #1967D2;\n",
              "      height: 32px;\n",
              "      padding: 0 0 0 0;\n",
              "      width: 32px;\n",
              "    }\n",
              "\n",
              "    .colab-df-convert:hover {\n",
              "      background-color: #E2EBFA;\n",
              "      box-shadow: 0px 1px 2px rgba(60, 64, 67, 0.3), 0px 1px 3px 1px rgba(60, 64, 67, 0.15);\n",
              "      fill: #174EA6;\n",
              "    }\n",
              "\n",
              "    [theme=dark] .colab-df-convert {\n",
              "      background-color: #3B4455;\n",
              "      fill: #D2E3FC;\n",
              "    }\n",
              "\n",
              "    [theme=dark] .colab-df-convert:hover {\n",
              "      background-color: #434B5C;\n",
              "      box-shadow: 0px 1px 3px 1px rgba(0, 0, 0, 0.15);\n",
              "      filter: drop-shadow(0px 1px 2px rgba(0, 0, 0, 0.3));\n",
              "      fill: #FFFFFF;\n",
              "    }\n",
              "  </style>\n",
              "\n",
              "      <script>\n",
              "        const buttonEl =\n",
              "          document.querySelector('#df-d29f4655-769e-4e7c-b524-43529885e793 button.colab-df-convert');\n",
              "        buttonEl.style.display =\n",
              "          google.colab.kernel.accessAllowed ? 'block' : 'none';\n",
              "\n",
              "        async function convertToInteractive(key) {\n",
              "          const element = document.querySelector('#df-d29f4655-769e-4e7c-b524-43529885e793');\n",
              "          const dataTable =\n",
              "            await google.colab.kernel.invokeFunction('convertToInteractive',\n",
              "                                                     [key], {});\n",
              "          if (!dataTable) return;\n",
              "\n",
              "          const docLinkHtml = 'Like what you see? Visit the ' +\n",
              "            '<a target=\"_blank\" href=https://colab.research.google.com/notebooks/data_table.ipynb>data table notebook</a>'\n",
              "            + ' to learn more about interactive tables.';\n",
              "          element.innerHTML = '';\n",
              "          dataTable['output_type'] = 'display_data';\n",
              "          await google.colab.output.renderOutput(dataTable, element);\n",
              "          const docLink = document.createElement('div');\n",
              "          docLink.innerHTML = docLinkHtml;\n",
              "          element.appendChild(docLink);\n",
              "        }\n",
              "      </script>\n",
              "    </div>\n",
              "  </div>\n",
              "  "
            ]
          },
          "metadata": {},
          "execution_count": 49
        }
      ]
    },
    {
      "cell_type": "markdown",
      "source": [
        "2. Search for economic data!\n"
      ],
      "metadata": {
        "id": "W14DYLta7JBy"
      }
    },
    {
      "cell_type": "code",
      "source": [
        "# sp_search = fred.search('S&P', order_by= 'popularity')\n",
        "# sp_search.shape"
      ],
      "metadata": {
        "id": "9unJEGjP7MbA"
      },
      "execution_count": null,
      "outputs": []
    },
    {
      "cell_type": "code",
      "source": [
        "# us_unrate = fred.get_series('UNRATE')"
      ],
      "metadata": {
        "id": "RfnHPr9y9gLq"
      },
      "execution_count": null,
      "outputs": []
    },
    {
      "cell_type": "code",
      "source": [
        "\n",
        "# uk_unrate = fred.get_series('LRHUTTTTGBM156S')"
      ],
      "metadata": {
        "id": "mMq4V6-JBrQd"
      },
      "execution_count": null,
      "outputs": []
    },
    {
      "cell_type": "code",
      "source": [
        "# usgdp = fred.get_series('GDP')"
      ],
      "metadata": {
        "id": "su9yVph8C5TP"
      },
      "execution_count": null,
      "outputs": []
    },
    {
      "cell_type": "code",
      "source": [
        "# ukgdp = fred.get_series('UKNGDP')"
      ],
      "metadata": {
        "id": "yPOeltSKA87z"
      },
      "execution_count": null,
      "outputs": []
    },
    {
      "cell_type": "code",
      "source": [
        "# us_ir = fred.get_series('DFF') #US short term rate "
      ],
      "metadata": {
        "id": "dZ16T1SxBoGd"
      },
      "execution_count": null,
      "outputs": []
    },
    {
      "cell_type": "code",
      "source": [
        "# gbptousd= fred.get_series('DEXUSUK')"
      ],
      "metadata": {
        "id": "jNrKwM0YGphE"
      },
      "execution_count": null,
      "outputs": []
    },
    {
      "cell_type": "code",
      "source": [
        "# us_ltr = fred.get_series('DLTIIT')"
      ],
      "metadata": {
        "id": "jeIbk1JkM6BS"
      },
      "execution_count": null,
      "outputs": []
    },
    {
      "cell_type": "code",
      "source": [
        "df_new = pd.DataFrame()"
      ],
      "metadata": {
        "id": "WOdT4bcAcHpY"
      },
      "execution_count": null,
      "outputs": []
    },
    {
      "cell_type": "code",
      "source": [
        "uk3mby = df[\"Rate\"]\n",
        "us3mby = us3mby[\"Close\"]\n",
        "uk10by = df1[\"Long Term Rate\"]\n",
        "us10by = df2[\"Long Term Rate\"]\n",
        "gbpusdfuture_june_23 = df3[\"Future GBPUSD\"]\n",
        "gbdusdspot = gbpusd_hist[\"Close\"]\n",
        "df_new['UK 3M Bond Yield'] = uk3mby\n",
        "df_new['UK 10Y Bond Yield'] = uk10by\n",
        "df_new['US 3M Bond Yield'] = us3mby\n",
        "df_new['US 10Y Bond Yield'] = us10by\n",
        "df_new['GBP USD future rate'] = gbpusdfuture_june_23\n",
        "df_new['GBP USD spot rate'] = gbdusdspot\n",
        "df_new['GBP USD spot rate difference'] = df_new['GBP USD spot rate'] - df_new['GBP USD spot rate'].shift(1)\n",
        "df_new['GBP USD Log return'] = np.log(df_new['GBP USD spot rate']) - np.log(df_new['GBP USD spot rate'].shift(1))"
      ],
      "metadata": {
        "id": "-Cthea8McU_z"
      },
      "execution_count": null,
      "outputs": []
    },
    {
      "cell_type": "code",
      "source": [
        "def forward(df_new):\n",
        "    return df_new['GBP USD spot rate'] * ((1 + df_new['US 3M Bond Yield']) / (1 + df_new['UK 3M Bond Yield']))\n",
        "\n",
        "forward_rate = df_new.apply(forward, axis=1)\n",
        "df_new['GBP USD forward rate'] = forward_rate\n"
      ],
      "metadata": {
        "id": "2RU3K5YLmt88"
      },
      "execution_count": null,
      "outputs": []
    },
    {
      "cell_type": "code",
      "source": [
        "def risk_premium(df_new):\n",
        "  return df_new['GBP USD spot rate'] - df_new['GBP USD forward rate']\n",
        "risk_premium = df_new.apply(risk_premium, axis=1)\n",
        "df_new['Risk Premium'] = risk_premium"
      ],
      "metadata": {
        "id": "sYArYu56n0_s"
      },
      "execution_count": null,
      "outputs": []
    },
    {
      "cell_type": "code",
      "source": [
        "\n",
        "df_new['change in FX long term'] =  (df_new['GBP USD future rate']) - (df_new['GBP USD future rate'].shift(1))"
      ],
      "metadata": {
        "id": "mK-Mgw6CutCd"
      },
      "execution_count": null,
      "outputs": []
    },
    {
      "cell_type": "code",
      "source": [
        "df_new['change in UK nominal interest rate 3M'] = (df_new['UK 3M Bond Yield']) - (df_new['UK 3M Bond Yield'].shift(1))\n",
        "df_new['change in US nominal interest rate 3M'] = (df_new['US 3M Bond Yield']) - (df_new['US 3M Bond Yield'].shift(1))\n",
        "\n",
        "df_new['change in UK nominal interest rate 10Y'] = (df_new['UK 10Y Bond Yield']) - (df_new['UK 10Y Bond Yield'].shift(1))\n",
        "df_new['News Effect'] = abs(df_new['change in UK nominal interest rate 3M']) + abs(df_new['change in UK nominal interest rate 10Y']) + abs(df_new['Risk Premium']) + abs(df_new['change in FX long term'])"
      ],
      "metadata": {
        "id": "kwfkyXBScLY4"
      },
      "execution_count": null,
      "outputs": []
    },
    {
      "cell_type": "code",
      "source": [
        "\n",
        "df_new.iloc[400:600]"
      ],
      "metadata": {
        "id": "E0qcSZabfcf5",
        "colab": {
          "base_uri": "https://localhost:8080/",
          "height": 707
        },
        "outputId": "010142d5-8163-43e4-95f4-fba5829d8989"
      },
      "execution_count": null,
      "outputs": [
        {
          "output_type": "execute_result",
          "data": {
            "text/plain": [
              "            UK 3M Bond Yield  UK 10Y Bond Yield  US 3M Bond Yield  \\\n",
              "Date                                                                \n",
              "2021-09-16             0.058              0.820             0.030   \n",
              "2021-09-17             0.067              0.848             0.028   \n",
              "2021-09-20             0.043              0.795             0.025   \n",
              "2021-09-21             0.053              0.809             0.020   \n",
              "2021-09-22             0.053              0.799             0.025   \n",
              "...                      ...                ...               ...   \n",
              "2022-06-16             1.261              2.517             1.483   \n",
              "2022-06-17             1.217              2.496             1.510   \n",
              "2022-06-20             1.233              2.602               NaN   \n",
              "2022-06-21             1.257              2.649             1.488   \n",
              "2022-06-22             1.222              2.495             1.545   \n",
              "\n",
              "            US 10Y Bond Yield  GBP USD future rate  GBP USD spot rate  \\\n",
              "Date                                                                    \n",
              "2021-09-16              1.336               1.3792           1.384888   \n",
              "2021-09-17              1.363               1.3739           1.379701   \n",
              "2021-09-20              1.312               1.3647           1.372966   \n",
              "2021-09-21              1.328               1.3665           1.366270   \n",
              "2021-09-22              1.304               1.3616           1.365747   \n",
              "...                       ...                  ...                ...   \n",
              "2022-06-16              3.195               1.2375           1.217434   \n",
              "2022-06-17              3.231               1.2230           1.235483   \n",
              "2022-06-20              3.277               1.2272           1.222823   \n",
              "2022-06-21              3.279               1.2295           1.225175   \n",
              "2022-06-22              3.160               1.2282           1.226663   \n",
              "\n",
              "            GBP USD spot rate difference  GBP USD Log return  \\\n",
              "Date                                                           \n",
              "2021-09-16                      0.003863            0.002794   \n",
              "2021-09-17                     -0.005188           -0.003753   \n",
              "2021-09-20                     -0.006734           -0.004893   \n",
              "2021-09-21                     -0.006697           -0.004889   \n",
              "2021-09-22                     -0.000523           -0.000383   \n",
              "...                                  ...                 ...   \n",
              "2022-06-16                      0.016175            0.013375   \n",
              "2022-06-17                      0.018049            0.014717   \n",
              "2022-06-20                     -0.012660           -0.010300   \n",
              "2022-06-21                      0.002352            0.001922   \n",
              "2022-06-22                      0.001488            0.001214   \n",
              "\n",
              "            GBP USD forward rate  Risk Premium  change in FX long term  \\\n",
              "Date                                                                     \n",
              "2021-09-16              1.348237      0.036651                 -0.0042   \n",
              "2021-09-17              1.329271      0.050430                 -0.0053   \n",
              "2021-09-20              1.349272      0.023695                 -0.0092   \n",
              "2021-09-21              1.323452      0.042818                  0.0018   \n",
              "2021-09-22              1.329431      0.036316                 -0.0049   \n",
              "...                          ...           ...                     ...   \n",
              "2022-06-16              1.336969     -0.119536                  0.0233   \n",
              "2022-06-17              1.398765     -0.163282                 -0.0145   \n",
              "2022-06-20                   NaN           NaN                  0.0042   \n",
              "2022-06-21              1.350569     -0.125395                  0.0023   \n",
              "2022-06-22              1.404976     -0.178313                 -0.0013   \n",
              "\n",
              "            change in UK nominal interest rate 3M  \\\n",
              "Date                                                \n",
              "2021-09-16                                  0.001   \n",
              "2021-09-17                                  0.009   \n",
              "2021-09-20                                 -0.024   \n",
              "2021-09-21                                  0.010   \n",
              "2021-09-22                                  0.000   \n",
              "...                                           ...   \n",
              "2022-06-16                                  0.031   \n",
              "2022-06-17                                 -0.044   \n",
              "2022-06-20                                  0.016   \n",
              "2022-06-21                                  0.024   \n",
              "2022-06-22                                 -0.035   \n",
              "\n",
              "            change in US nominal interest rate 3M  \\\n",
              "Date                                                \n",
              "2021-09-16                                 -0.005   \n",
              "2021-09-17                                 -0.002   \n",
              "2021-09-20                                 -0.003   \n",
              "2021-09-21                                 -0.005   \n",
              "2021-09-22                                  0.005   \n",
              "...                                           ...   \n",
              "2022-06-16                                 -0.212   \n",
              "2022-06-17                                  0.027   \n",
              "2022-06-20                                    NaN   \n",
              "2022-06-21                                    NaN   \n",
              "2022-06-22                                  0.057   \n",
              "\n",
              "            change in UK nominal interest rate 10Y  News Effect  \n",
              "Date                                                             \n",
              "2021-09-16                                   0.042     0.083851  \n",
              "2021-09-17                                   0.028     0.092730  \n",
              "2021-09-20                                  -0.053     0.109895  \n",
              "2021-09-21                                   0.014     0.068618  \n",
              "2021-09-22                                  -0.010     0.051216  \n",
              "...                                            ...          ...  \n",
              "2022-06-16                                   0.051     0.224836  \n",
              "2022-06-17                                  -0.021     0.242782  \n",
              "2022-06-20                                   0.106          NaN  \n",
              "2022-06-21                                   0.047     0.198695  \n",
              "2022-06-22                                  -0.154     0.368613  \n",
              "\n",
              "[200 rows x 15 columns]"
            ],
            "text/html": [
              "\n",
              "  <div id=\"df-94ed248f-074a-4457-928b-5f13079d69bc\">\n",
              "    <div class=\"colab-df-container\">\n",
              "      <div>\n",
              "<style scoped>\n",
              "    .dataframe tbody tr th:only-of-type {\n",
              "        vertical-align: middle;\n",
              "    }\n",
              "\n",
              "    .dataframe tbody tr th {\n",
              "        vertical-align: top;\n",
              "    }\n",
              "\n",
              "    .dataframe thead th {\n",
              "        text-align: right;\n",
              "    }\n",
              "</style>\n",
              "<table border=\"1\" class=\"dataframe\">\n",
              "  <thead>\n",
              "    <tr style=\"text-align: right;\">\n",
              "      <th></th>\n",
              "      <th>UK 3M Bond Yield</th>\n",
              "      <th>UK 10Y Bond Yield</th>\n",
              "      <th>US 3M Bond Yield</th>\n",
              "      <th>US 10Y Bond Yield</th>\n",
              "      <th>GBP USD future rate</th>\n",
              "      <th>GBP USD spot rate</th>\n",
              "      <th>GBP USD spot rate difference</th>\n",
              "      <th>GBP USD Log return</th>\n",
              "      <th>GBP USD forward rate</th>\n",
              "      <th>Risk Premium</th>\n",
              "      <th>change in FX long term</th>\n",
              "      <th>change in UK nominal interest rate 3M</th>\n",
              "      <th>change in US nominal interest rate 3M</th>\n",
              "      <th>change in UK nominal interest rate 10Y</th>\n",
              "      <th>News Effect</th>\n",
              "    </tr>\n",
              "    <tr>\n",
              "      <th>Date</th>\n",
              "      <th></th>\n",
              "      <th></th>\n",
              "      <th></th>\n",
              "      <th></th>\n",
              "      <th></th>\n",
              "      <th></th>\n",
              "      <th></th>\n",
              "      <th></th>\n",
              "      <th></th>\n",
              "      <th></th>\n",
              "      <th></th>\n",
              "      <th></th>\n",
              "      <th></th>\n",
              "      <th></th>\n",
              "      <th></th>\n",
              "    </tr>\n",
              "  </thead>\n",
              "  <tbody>\n",
              "    <tr>\n",
              "      <th>2021-09-16</th>\n",
              "      <td>0.058</td>\n",
              "      <td>0.820</td>\n",
              "      <td>0.030</td>\n",
              "      <td>1.336</td>\n",
              "      <td>1.3792</td>\n",
              "      <td>1.384888</td>\n",
              "      <td>0.003863</td>\n",
              "      <td>0.002794</td>\n",
              "      <td>1.348237</td>\n",
              "      <td>0.036651</td>\n",
              "      <td>-0.0042</td>\n",
              "      <td>0.001</td>\n",
              "      <td>-0.005</td>\n",
              "      <td>0.042</td>\n",
              "      <td>0.083851</td>\n",
              "    </tr>\n",
              "    <tr>\n",
              "      <th>2021-09-17</th>\n",
              "      <td>0.067</td>\n",
              "      <td>0.848</td>\n",
              "      <td>0.028</td>\n",
              "      <td>1.363</td>\n",
              "      <td>1.3739</td>\n",
              "      <td>1.379701</td>\n",
              "      <td>-0.005188</td>\n",
              "      <td>-0.003753</td>\n",
              "      <td>1.329271</td>\n",
              "      <td>0.050430</td>\n",
              "      <td>-0.0053</td>\n",
              "      <td>0.009</td>\n",
              "      <td>-0.002</td>\n",
              "      <td>0.028</td>\n",
              "      <td>0.092730</td>\n",
              "    </tr>\n",
              "    <tr>\n",
              "      <th>2021-09-20</th>\n",
              "      <td>0.043</td>\n",
              "      <td>0.795</td>\n",
              "      <td>0.025</td>\n",
              "      <td>1.312</td>\n",
              "      <td>1.3647</td>\n",
              "      <td>1.372966</td>\n",
              "      <td>-0.006734</td>\n",
              "      <td>-0.004893</td>\n",
              "      <td>1.349272</td>\n",
              "      <td>0.023695</td>\n",
              "      <td>-0.0092</td>\n",
              "      <td>-0.024</td>\n",
              "      <td>-0.003</td>\n",
              "      <td>-0.053</td>\n",
              "      <td>0.109895</td>\n",
              "    </tr>\n",
              "    <tr>\n",
              "      <th>2021-09-21</th>\n",
              "      <td>0.053</td>\n",
              "      <td>0.809</td>\n",
              "      <td>0.020</td>\n",
              "      <td>1.328</td>\n",
              "      <td>1.3665</td>\n",
              "      <td>1.366270</td>\n",
              "      <td>-0.006697</td>\n",
              "      <td>-0.004889</td>\n",
              "      <td>1.323452</td>\n",
              "      <td>0.042818</td>\n",
              "      <td>0.0018</td>\n",
              "      <td>0.010</td>\n",
              "      <td>-0.005</td>\n",
              "      <td>0.014</td>\n",
              "      <td>0.068618</td>\n",
              "    </tr>\n",
              "    <tr>\n",
              "      <th>2021-09-22</th>\n",
              "      <td>0.053</td>\n",
              "      <td>0.799</td>\n",
              "      <td>0.025</td>\n",
              "      <td>1.304</td>\n",
              "      <td>1.3616</td>\n",
              "      <td>1.365747</td>\n",
              "      <td>-0.000523</td>\n",
              "      <td>-0.000383</td>\n",
              "      <td>1.329431</td>\n",
              "      <td>0.036316</td>\n",
              "      <td>-0.0049</td>\n",
              "      <td>0.000</td>\n",
              "      <td>0.005</td>\n",
              "      <td>-0.010</td>\n",
              "      <td>0.051216</td>\n",
              "    </tr>\n",
              "    <tr>\n",
              "      <th>...</th>\n",
              "      <td>...</td>\n",
              "      <td>...</td>\n",
              "      <td>...</td>\n",
              "      <td>...</td>\n",
              "      <td>...</td>\n",
              "      <td>...</td>\n",
              "      <td>...</td>\n",
              "      <td>...</td>\n",
              "      <td>...</td>\n",
              "      <td>...</td>\n",
              "      <td>...</td>\n",
              "      <td>...</td>\n",
              "      <td>...</td>\n",
              "      <td>...</td>\n",
              "      <td>...</td>\n",
              "    </tr>\n",
              "    <tr>\n",
              "      <th>2022-06-16</th>\n",
              "      <td>1.261</td>\n",
              "      <td>2.517</td>\n",
              "      <td>1.483</td>\n",
              "      <td>3.195</td>\n",
              "      <td>1.2375</td>\n",
              "      <td>1.217434</td>\n",
              "      <td>0.016175</td>\n",
              "      <td>0.013375</td>\n",
              "      <td>1.336969</td>\n",
              "      <td>-0.119536</td>\n",
              "      <td>0.0233</td>\n",
              "      <td>0.031</td>\n",
              "      <td>-0.212</td>\n",
              "      <td>0.051</td>\n",
              "      <td>0.224836</td>\n",
              "    </tr>\n",
              "    <tr>\n",
              "      <th>2022-06-17</th>\n",
              "      <td>1.217</td>\n",
              "      <td>2.496</td>\n",
              "      <td>1.510</td>\n",
              "      <td>3.231</td>\n",
              "      <td>1.2230</td>\n",
              "      <td>1.235483</td>\n",
              "      <td>0.018049</td>\n",
              "      <td>0.014717</td>\n",
              "      <td>1.398765</td>\n",
              "      <td>-0.163282</td>\n",
              "      <td>-0.0145</td>\n",
              "      <td>-0.044</td>\n",
              "      <td>0.027</td>\n",
              "      <td>-0.021</td>\n",
              "      <td>0.242782</td>\n",
              "    </tr>\n",
              "    <tr>\n",
              "      <th>2022-06-20</th>\n",
              "      <td>1.233</td>\n",
              "      <td>2.602</td>\n",
              "      <td>NaN</td>\n",
              "      <td>3.277</td>\n",
              "      <td>1.2272</td>\n",
              "      <td>1.222823</td>\n",
              "      <td>-0.012660</td>\n",
              "      <td>-0.010300</td>\n",
              "      <td>NaN</td>\n",
              "      <td>NaN</td>\n",
              "      <td>0.0042</td>\n",
              "      <td>0.016</td>\n",
              "      <td>NaN</td>\n",
              "      <td>0.106</td>\n",
              "      <td>NaN</td>\n",
              "    </tr>\n",
              "    <tr>\n",
              "      <th>2022-06-21</th>\n",
              "      <td>1.257</td>\n",
              "      <td>2.649</td>\n",
              "      <td>1.488</td>\n",
              "      <td>3.279</td>\n",
              "      <td>1.2295</td>\n",
              "      <td>1.225175</td>\n",
              "      <td>0.002352</td>\n",
              "      <td>0.001922</td>\n",
              "      <td>1.350569</td>\n",
              "      <td>-0.125395</td>\n",
              "      <td>0.0023</td>\n",
              "      <td>0.024</td>\n",
              "      <td>NaN</td>\n",
              "      <td>0.047</td>\n",
              "      <td>0.198695</td>\n",
              "    </tr>\n",
              "    <tr>\n",
              "      <th>2022-06-22</th>\n",
              "      <td>1.222</td>\n",
              "      <td>2.495</td>\n",
              "      <td>1.545</td>\n",
              "      <td>3.160</td>\n",
              "      <td>1.2282</td>\n",
              "      <td>1.226663</td>\n",
              "      <td>0.001488</td>\n",
              "      <td>0.001214</td>\n",
              "      <td>1.404976</td>\n",
              "      <td>-0.178313</td>\n",
              "      <td>-0.0013</td>\n",
              "      <td>-0.035</td>\n",
              "      <td>0.057</td>\n",
              "      <td>-0.154</td>\n",
              "      <td>0.368613</td>\n",
              "    </tr>\n",
              "  </tbody>\n",
              "</table>\n",
              "<p>200 rows × 15 columns</p>\n",
              "</div>\n",
              "      <button class=\"colab-df-convert\" onclick=\"convertToInteractive('df-94ed248f-074a-4457-928b-5f13079d69bc')\"\n",
              "              title=\"Convert this dataframe to an interactive table.\"\n",
              "              style=\"display:none;\">\n",
              "        \n",
              "  <svg xmlns=\"http://www.w3.org/2000/svg\" height=\"24px\"viewBox=\"0 0 24 24\"\n",
              "       width=\"24px\">\n",
              "    <path d=\"M0 0h24v24H0V0z\" fill=\"none\"/>\n",
              "    <path d=\"M18.56 5.44l.94 2.06.94-2.06 2.06-.94-2.06-.94-.94-2.06-.94 2.06-2.06.94zm-11 1L8.5 8.5l.94-2.06 2.06-.94-2.06-.94L8.5 2.5l-.94 2.06-2.06.94zm10 10l.94 2.06.94-2.06 2.06-.94-2.06-.94-.94-2.06-.94 2.06-2.06.94z\"/><path d=\"M17.41 7.96l-1.37-1.37c-.4-.4-.92-.59-1.43-.59-.52 0-1.04.2-1.43.59L10.3 9.45l-7.72 7.72c-.78.78-.78 2.05 0 2.83L4 21.41c.39.39.9.59 1.41.59.51 0 1.02-.2 1.41-.59l7.78-7.78 2.81-2.81c.8-.78.8-2.07 0-2.86zM5.41 20L4 18.59l7.72-7.72 1.47 1.35L5.41 20z\"/>\n",
              "  </svg>\n",
              "      </button>\n",
              "      \n",
              "  <style>\n",
              "    .colab-df-container {\n",
              "      display:flex;\n",
              "      flex-wrap:wrap;\n",
              "      gap: 12px;\n",
              "    }\n",
              "\n",
              "    .colab-df-convert {\n",
              "      background-color: #E8F0FE;\n",
              "      border: none;\n",
              "      border-radius: 50%;\n",
              "      cursor: pointer;\n",
              "      display: none;\n",
              "      fill: #1967D2;\n",
              "      height: 32px;\n",
              "      padding: 0 0 0 0;\n",
              "      width: 32px;\n",
              "    }\n",
              "\n",
              "    .colab-df-convert:hover {\n",
              "      background-color: #E2EBFA;\n",
              "      box-shadow: 0px 1px 2px rgba(60, 64, 67, 0.3), 0px 1px 3px 1px rgba(60, 64, 67, 0.15);\n",
              "      fill: #174EA6;\n",
              "    }\n",
              "\n",
              "    [theme=dark] .colab-df-convert {\n",
              "      background-color: #3B4455;\n",
              "      fill: #D2E3FC;\n",
              "    }\n",
              "\n",
              "    [theme=dark] .colab-df-convert:hover {\n",
              "      background-color: #434B5C;\n",
              "      box-shadow: 0px 1px 3px 1px rgba(0, 0, 0, 0.15);\n",
              "      filter: drop-shadow(0px 1px 2px rgba(0, 0, 0, 0.3));\n",
              "      fill: #FFFFFF;\n",
              "    }\n",
              "  </style>\n",
              "\n",
              "      <script>\n",
              "        const buttonEl =\n",
              "          document.querySelector('#df-94ed248f-074a-4457-928b-5f13079d69bc button.colab-df-convert');\n",
              "        buttonEl.style.display =\n",
              "          google.colab.kernel.accessAllowed ? 'block' : 'none';\n",
              "\n",
              "        async function convertToInteractive(key) {\n",
              "          const element = document.querySelector('#df-94ed248f-074a-4457-928b-5f13079d69bc');\n",
              "          const dataTable =\n",
              "            await google.colab.kernel.invokeFunction('convertToInteractive',\n",
              "                                                     [key], {});\n",
              "          if (!dataTable) return;\n",
              "\n",
              "          const docLinkHtml = 'Like what you see? Visit the ' +\n",
              "            '<a target=\"_blank\" href=https://colab.research.google.com/notebooks/data_table.ipynb>data table notebook</a>'\n",
              "            + ' to learn more about interactive tables.';\n",
              "          element.innerHTML = '';\n",
              "          dataTable['output_type'] = 'display_data';\n",
              "          await google.colab.output.renderOutput(dataTable, element);\n",
              "          const docLink = document.createElement('div');\n",
              "          docLink.innerHTML = docLinkHtml;\n",
              "          element.appendChild(docLink);\n",
              "        }\n",
              "      </script>\n",
              "    </div>\n",
              "  </div>\n",
              "  "
            ]
          },
          "metadata": {},
          "execution_count": 55
        }
      ]
    },
    {
      "cell_type": "markdown",
      "source": [
        "https://www.jstor.org/stable/2077869 Typically, the risk premium is defined as the expected future spot exchange rate minus the current forward exchange rate, where the exchange rates are either in lev- els or logarithms."
      ],
      "metadata": {
        "id": "E9mvUnTzji4K"
      }
    },
    {
      "cell_type": "markdown",
      "source": [
        "https://www.investopedia.com/terms/f/forwarddiscount.asp Here's the interest rate parity formula for calculating the expected future spot exchange rate:\n",
        "\n",
        "Expected Future Spot Exchange Rate = Spot Exchange Rate x (1 + Foreign Interest Rate) / (1 + Domestic Interest Rate)"
      ],
      "metadata": {
        "id": "u3Zd7DlGj8Ay"
      }
    },
    {
      "cell_type": "markdown",
      "source": [
        " The expected future spot rate is calculated by multiplying the spot rate by a ratio of the foreign interest rate to the domestic interest rate: 1.5339 x (1.05/1.07) = 1.5052. https://www.investopedia.com/articles/economics/10/international-fisher-effect.asp#:~:text=The%20expected%20future%20spot%20rate,1.05%2F1.07)%20%3D%201.5052."
      ],
      "metadata": {
        "id": "OWS1IN8Zkts6"
      }
    },
    {
      "cell_type": "markdown",
      "source": [
        "Forward rate = Spot rate x (1 + foreign interest rate) / (1 + domestic interest rate)"
      ],
      "metadata": {
        "id": "C5nErr0ClYJe"
      }
    },
    {
      "cell_type": "code",
      "source": [
        "df_new2 = df_new.dropna()"
      ],
      "metadata": {
        "id": "KYx3uFSqlYwb"
      },
      "execution_count": null,
      "outputs": []
    },
    {
      "cell_type": "code",
      "source": [
        "df_new2[\"News Effect\"].iloc[500:800]"
      ],
      "metadata": {
        "id": "Y5H18okiyonA",
        "colab": {
          "base_uri": "https://localhost:8080/"
        },
        "outputId": "65ff2319-162d-4f4a-d295-c53de7f83f17"
      },
      "execution_count": null,
      "outputs": [
        {
          "output_type": "execute_result",
          "data": {
            "text/plain": [
              "Date\n",
              "2022-03-25    0.155091\n",
              "2022-03-28    0.179272\n",
              "2022-03-29    0.111593\n",
              "2022-03-30    0.114685\n",
              "2022-03-31    0.175045\n",
              "                ...   \n",
              "2023-03-10    0.316141\n",
              "2023-03-13    0.466740\n",
              "2023-03-14    0.343358\n",
              "2023-03-15    0.406899\n",
              "2023-03-16    0.171145\n",
              "Name: News Effect, Length: 234, dtype: float64"
            ]
          },
          "metadata": {},
          "execution_count": 57
        }
      ]
    },
    {
      "cell_type": "code",
      "source": [
        "df_new.iloc[663]"
      ],
      "metadata": {
        "id": "zEwyIWzqAAjM",
        "colab": {
          "base_uri": "https://localhost:8080/"
        },
        "outputId": "a7f03c60-734d-4272-8999-c5a6118909bd"
      },
      "execution_count": null,
      "outputs": [
        {
          "output_type": "execute_result",
          "data": {
            "text/plain": [
              "UK 3M Bond Yield                          2.588000\n",
              "UK 10Y Bond Yield                         3.293000\n",
              "US 3M Bond Yield                          3.243000\n",
              "US 10Y Bond Yield                         3.569000\n",
              "GBP USD future rate                       1.139200\n",
              "GBP USD spot rate                         1.144322\n",
              "GBP USD spot rate difference              0.001007\n",
              "GBP USD Log return                        0.000881\n",
              "GBP USD forward rate                      1.353221\n",
              "Risk Premium                             -0.208899\n",
              "change in FX long term                    0.000800\n",
              "change in UK nominal interest rate 3M     0.031000\n",
              "change in US nominal interest rate 3M     0.208000\n",
              "change in UK nominal interest rate 10Y    0.139500\n",
              "News Effect                               0.380199\n",
              "Name: 2022-09-20, dtype: float64"
            ]
          },
          "metadata": {},
          "execution_count": 58
        }
      ]
    },
    {
      "cell_type": "markdown",
      "source": [
        "T = 1 from Sept 20, 2022 to Oct 3rd 2022 (abolishment announced)"
      ],
      "metadata": {
        "id": "NBtl7v5h3O4-"
      }
    },
    {
      "cell_type": "code",
      "source": [
        "\n",
        "df_new2['near_news'] = 0\n",
        "df_new2['near_news'].iloc[653:659] = 1\n",
        "df_new2['Liz Truss News Effect'] = df_new2['near_news'] * df_new2['News Effect']"
      ],
      "metadata": {
        "id": "jF5hDbbc_HFK",
        "colab": {
          "base_uri": "https://localhost:8080/"
        },
        "outputId": "ebca1d6b-3441-47aa-fdcc-2733bc500095"
      },
      "execution_count": null,
      "outputs": [
        {
          "output_type": "stream",
          "name": "stderr",
          "text": [
            "<ipython-input-59-8874b52285ef>:1: SettingWithCopyWarning: \n",
            "A value is trying to be set on a copy of a slice from a DataFrame.\n",
            "Try using .loc[row_indexer,col_indexer] = value instead\n",
            "\n",
            "See the caveats in the documentation: https://pandas.pydata.org/pandas-docs/stable/user_guide/indexing.html#returning-a-view-versus-a-copy\n",
            "  df_new2['near_news'] = 0\n",
            "<ipython-input-59-8874b52285ef>:2: SettingWithCopyWarning: \n",
            "A value is trying to be set on a copy of a slice from a DataFrame\n",
            "\n",
            "See the caveats in the documentation: https://pandas.pydata.org/pandas-docs/stable/user_guide/indexing.html#returning-a-view-versus-a-copy\n",
            "  df_new2['near_news'].iloc[653:659] = 1\n",
            "<ipython-input-59-8874b52285ef>:3: SettingWithCopyWarning: \n",
            "A value is trying to be set on a copy of a slice from a DataFrame.\n",
            "Try using .loc[row_indexer,col_indexer] = value instead\n",
            "\n",
            "See the caveats in the documentation: https://pandas.pydata.org/pandas-docs/stable/user_guide/indexing.html#returning-a-view-versus-a-copy\n",
            "  df_new2['Liz Truss News Effect'] = df_new2['near_news'] * df_new2['News Effect']\n"
          ]
        }
      ]
    },
    {
      "cell_type": "code",
      "source": [
        "df_new2.head()"
      ],
      "metadata": {
        "id": "BheTfE5K_Hq6",
        "colab": {
          "base_uri": "https://localhost:8080/",
          "height": 420
        },
        "outputId": "9516e524-3fa5-48ea-fc1e-e179ab6973ea"
      },
      "execution_count": null,
      "outputs": [
        {
          "output_type": "execute_result",
          "data": {
            "text/plain": [
              "            UK 3M Bond Yield  UK 10Y Bond Yield  US 3M Bond Yield  \\\n",
              "Date                                                                \n",
              "2020-03-03             0.609              0.389             0.918   \n",
              "2020-03-04             0.472              0.370             0.675   \n",
              "2020-03-05             0.540              0.335             0.595   \n",
              "2020-03-06             0.508              0.232             0.415   \n",
              "2020-03-09             0.457              0.159             0.330   \n",
              "\n",
              "            US 10Y Bond Yield  GBP USD future rate  GBP USD spot rate  \\\n",
              "Date                                                                    \n",
              "2020-03-03              0.999               1.2815           1.276715   \n",
              "2020-03-04              1.055               1.2870           1.282084   \n",
              "2020-03-05              0.917               1.2948           1.287498   \n",
              "2020-03-06              0.773               1.3018           1.295068   \n",
              "2020-03-09              0.559               1.3114           1.309929   \n",
              "\n",
              "            GBP USD spot rate difference  GBP USD Log return  \\\n",
              "Date                                                           \n",
              "2020-03-03                     -0.003990           -0.003120   \n",
              "2020-03-04                      0.005369            0.004196   \n",
              "2020-03-05                      0.005414            0.004214   \n",
              "2020-03-06                      0.007570            0.005862   \n",
              "2020-03-09                      0.014861            0.011410   \n",
              "\n",
              "            GBP USD forward rate  Risk Premium  change in FX long term  \\\n",
              "Date                                                                     \n",
              "2020-03-03              1.521902     -0.245186                  0.0034   \n",
              "2020-03-04              1.458893     -0.176809                  0.0055   \n",
              "2020-03-05              1.333480     -0.045982                  0.0078   \n",
              "2020-03-06              1.215200      0.079868                  0.0070   \n",
              "2020-03-09              1.195749      0.114181                  0.0096   \n",
              "\n",
              "            change in UK nominal interest rate 3M  \\\n",
              "Date                                                \n",
              "2020-03-03                                  0.037   \n",
              "2020-03-04                                 -0.137   \n",
              "2020-03-05                                  0.068   \n",
              "2020-03-06                                 -0.032   \n",
              "2020-03-09                                 -0.051   \n",
              "\n",
              "            change in US nominal interest rate 3M  \\\n",
              "Date                                                \n",
              "2020-03-03                                 -0.217   \n",
              "2020-03-04                                 -0.243   \n",
              "2020-03-05                                 -0.080   \n",
              "2020-03-06                                 -0.180   \n",
              "2020-03-09                                 -0.085   \n",
              "\n",
              "            change in UK nominal interest rate 10Y  News Effect  near_news  \\\n",
              "Date                                                                         \n",
              "2020-03-03                                  -0.023     0.308586          0   \n",
              "2020-03-04                                  -0.019     0.338309          0   \n",
              "2020-03-05                                  -0.035     0.156782          0   \n",
              "2020-03-06                                  -0.103     0.221868          0   \n",
              "2020-03-09                                  -0.073     0.247781          0   \n",
              "\n",
              "            Liz Truss News Effect  \n",
              "Date                               \n",
              "2020-03-03                    0.0  \n",
              "2020-03-04                    0.0  \n",
              "2020-03-05                    0.0  \n",
              "2020-03-06                    0.0  \n",
              "2020-03-09                    0.0  "
            ],
            "text/html": [
              "\n",
              "  <div id=\"df-827957bd-759c-44ad-96e9-2f5797d6d070\">\n",
              "    <div class=\"colab-df-container\">\n",
              "      <div>\n",
              "<style scoped>\n",
              "    .dataframe tbody tr th:only-of-type {\n",
              "        vertical-align: middle;\n",
              "    }\n",
              "\n",
              "    .dataframe tbody tr th {\n",
              "        vertical-align: top;\n",
              "    }\n",
              "\n",
              "    .dataframe thead th {\n",
              "        text-align: right;\n",
              "    }\n",
              "</style>\n",
              "<table border=\"1\" class=\"dataframe\">\n",
              "  <thead>\n",
              "    <tr style=\"text-align: right;\">\n",
              "      <th></th>\n",
              "      <th>UK 3M Bond Yield</th>\n",
              "      <th>UK 10Y Bond Yield</th>\n",
              "      <th>US 3M Bond Yield</th>\n",
              "      <th>US 10Y Bond Yield</th>\n",
              "      <th>GBP USD future rate</th>\n",
              "      <th>GBP USD spot rate</th>\n",
              "      <th>GBP USD spot rate difference</th>\n",
              "      <th>GBP USD Log return</th>\n",
              "      <th>GBP USD forward rate</th>\n",
              "      <th>Risk Premium</th>\n",
              "      <th>change in FX long term</th>\n",
              "      <th>change in UK nominal interest rate 3M</th>\n",
              "      <th>change in US nominal interest rate 3M</th>\n",
              "      <th>change in UK nominal interest rate 10Y</th>\n",
              "      <th>News Effect</th>\n",
              "      <th>near_news</th>\n",
              "      <th>Liz Truss News Effect</th>\n",
              "    </tr>\n",
              "    <tr>\n",
              "      <th>Date</th>\n",
              "      <th></th>\n",
              "      <th></th>\n",
              "      <th></th>\n",
              "      <th></th>\n",
              "      <th></th>\n",
              "      <th></th>\n",
              "      <th></th>\n",
              "      <th></th>\n",
              "      <th></th>\n",
              "      <th></th>\n",
              "      <th></th>\n",
              "      <th></th>\n",
              "      <th></th>\n",
              "      <th></th>\n",
              "      <th></th>\n",
              "      <th></th>\n",
              "      <th></th>\n",
              "    </tr>\n",
              "  </thead>\n",
              "  <tbody>\n",
              "    <tr>\n",
              "      <th>2020-03-03</th>\n",
              "      <td>0.609</td>\n",
              "      <td>0.389</td>\n",
              "      <td>0.918</td>\n",
              "      <td>0.999</td>\n",
              "      <td>1.2815</td>\n",
              "      <td>1.276715</td>\n",
              "      <td>-0.003990</td>\n",
              "      <td>-0.003120</td>\n",
              "      <td>1.521902</td>\n",
              "      <td>-0.245186</td>\n",
              "      <td>0.0034</td>\n",
              "      <td>0.037</td>\n",
              "      <td>-0.217</td>\n",
              "      <td>-0.023</td>\n",
              "      <td>0.308586</td>\n",
              "      <td>0</td>\n",
              "      <td>0.0</td>\n",
              "    </tr>\n",
              "    <tr>\n",
              "      <th>2020-03-04</th>\n",
              "      <td>0.472</td>\n",
              "      <td>0.370</td>\n",
              "      <td>0.675</td>\n",
              "      <td>1.055</td>\n",
              "      <td>1.2870</td>\n",
              "      <td>1.282084</td>\n",
              "      <td>0.005369</td>\n",
              "      <td>0.004196</td>\n",
              "      <td>1.458893</td>\n",
              "      <td>-0.176809</td>\n",
              "      <td>0.0055</td>\n",
              "      <td>-0.137</td>\n",
              "      <td>-0.243</td>\n",
              "      <td>-0.019</td>\n",
              "      <td>0.338309</td>\n",
              "      <td>0</td>\n",
              "      <td>0.0</td>\n",
              "    </tr>\n",
              "    <tr>\n",
              "      <th>2020-03-05</th>\n",
              "      <td>0.540</td>\n",
              "      <td>0.335</td>\n",
              "      <td>0.595</td>\n",
              "      <td>0.917</td>\n",
              "      <td>1.2948</td>\n",
              "      <td>1.287498</td>\n",
              "      <td>0.005414</td>\n",
              "      <td>0.004214</td>\n",
              "      <td>1.333480</td>\n",
              "      <td>-0.045982</td>\n",
              "      <td>0.0078</td>\n",
              "      <td>0.068</td>\n",
              "      <td>-0.080</td>\n",
              "      <td>-0.035</td>\n",
              "      <td>0.156782</td>\n",
              "      <td>0</td>\n",
              "      <td>0.0</td>\n",
              "    </tr>\n",
              "    <tr>\n",
              "      <th>2020-03-06</th>\n",
              "      <td>0.508</td>\n",
              "      <td>0.232</td>\n",
              "      <td>0.415</td>\n",
              "      <td>0.773</td>\n",
              "      <td>1.3018</td>\n",
              "      <td>1.295068</td>\n",
              "      <td>0.007570</td>\n",
              "      <td>0.005862</td>\n",
              "      <td>1.215200</td>\n",
              "      <td>0.079868</td>\n",
              "      <td>0.0070</td>\n",
              "      <td>-0.032</td>\n",
              "      <td>-0.180</td>\n",
              "      <td>-0.103</td>\n",
              "      <td>0.221868</td>\n",
              "      <td>0</td>\n",
              "      <td>0.0</td>\n",
              "    </tr>\n",
              "    <tr>\n",
              "      <th>2020-03-09</th>\n",
              "      <td>0.457</td>\n",
              "      <td>0.159</td>\n",
              "      <td>0.330</td>\n",
              "      <td>0.559</td>\n",
              "      <td>1.3114</td>\n",
              "      <td>1.309929</td>\n",
              "      <td>0.014861</td>\n",
              "      <td>0.011410</td>\n",
              "      <td>1.195749</td>\n",
              "      <td>0.114181</td>\n",
              "      <td>0.0096</td>\n",
              "      <td>-0.051</td>\n",
              "      <td>-0.085</td>\n",
              "      <td>-0.073</td>\n",
              "      <td>0.247781</td>\n",
              "      <td>0</td>\n",
              "      <td>0.0</td>\n",
              "    </tr>\n",
              "  </tbody>\n",
              "</table>\n",
              "</div>\n",
              "      <button class=\"colab-df-convert\" onclick=\"convertToInteractive('df-827957bd-759c-44ad-96e9-2f5797d6d070')\"\n",
              "              title=\"Convert this dataframe to an interactive table.\"\n",
              "              style=\"display:none;\">\n",
              "        \n",
              "  <svg xmlns=\"http://www.w3.org/2000/svg\" height=\"24px\"viewBox=\"0 0 24 24\"\n",
              "       width=\"24px\">\n",
              "    <path d=\"M0 0h24v24H0V0z\" fill=\"none\"/>\n",
              "    <path d=\"M18.56 5.44l.94 2.06.94-2.06 2.06-.94-2.06-.94-.94-2.06-.94 2.06-2.06.94zm-11 1L8.5 8.5l.94-2.06 2.06-.94-2.06-.94L8.5 2.5l-.94 2.06-2.06.94zm10 10l.94 2.06.94-2.06 2.06-.94-2.06-.94-.94-2.06-.94 2.06-2.06.94z\"/><path d=\"M17.41 7.96l-1.37-1.37c-.4-.4-.92-.59-1.43-.59-.52 0-1.04.2-1.43.59L10.3 9.45l-7.72 7.72c-.78.78-.78 2.05 0 2.83L4 21.41c.39.39.9.59 1.41.59.51 0 1.02-.2 1.41-.59l7.78-7.78 2.81-2.81c.8-.78.8-2.07 0-2.86zM5.41 20L4 18.59l7.72-7.72 1.47 1.35L5.41 20z\"/>\n",
              "  </svg>\n",
              "      </button>\n",
              "      \n",
              "  <style>\n",
              "    .colab-df-container {\n",
              "      display:flex;\n",
              "      flex-wrap:wrap;\n",
              "      gap: 12px;\n",
              "    }\n",
              "\n",
              "    .colab-df-convert {\n",
              "      background-color: #E8F0FE;\n",
              "      border: none;\n",
              "      border-radius: 50%;\n",
              "      cursor: pointer;\n",
              "      display: none;\n",
              "      fill: #1967D2;\n",
              "      height: 32px;\n",
              "      padding: 0 0 0 0;\n",
              "      width: 32px;\n",
              "    }\n",
              "\n",
              "    .colab-df-convert:hover {\n",
              "      background-color: #E2EBFA;\n",
              "      box-shadow: 0px 1px 2px rgba(60, 64, 67, 0.3), 0px 1px 3px 1px rgba(60, 64, 67, 0.15);\n",
              "      fill: #174EA6;\n",
              "    }\n",
              "\n",
              "    [theme=dark] .colab-df-convert {\n",
              "      background-color: #3B4455;\n",
              "      fill: #D2E3FC;\n",
              "    }\n",
              "\n",
              "    [theme=dark] .colab-df-convert:hover {\n",
              "      background-color: #434B5C;\n",
              "      box-shadow: 0px 1px 3px 1px rgba(0, 0, 0, 0.15);\n",
              "      filter: drop-shadow(0px 1px 2px rgba(0, 0, 0, 0.3));\n",
              "      fill: #FFFFFF;\n",
              "    }\n",
              "  </style>\n",
              "\n",
              "      <script>\n",
              "        const buttonEl =\n",
              "          document.querySelector('#df-827957bd-759c-44ad-96e9-2f5797d6d070 button.colab-df-convert');\n",
              "        buttonEl.style.display =\n",
              "          google.colab.kernel.accessAllowed ? 'block' : 'none';\n",
              "\n",
              "        async function convertToInteractive(key) {\n",
              "          const element = document.querySelector('#df-827957bd-759c-44ad-96e9-2f5797d6d070');\n",
              "          const dataTable =\n",
              "            await google.colab.kernel.invokeFunction('convertToInteractive',\n",
              "                                                     [key], {});\n",
              "          if (!dataTable) return;\n",
              "\n",
              "          const docLinkHtml = 'Like what you see? Visit the ' +\n",
              "            '<a target=\"_blank\" href=https://colab.research.google.com/notebooks/data_table.ipynb>data table notebook</a>'\n",
              "            + ' to learn more about interactive tables.';\n",
              "          element.innerHTML = '';\n",
              "          dataTable['output_type'] = 'display_data';\n",
              "          await google.colab.output.renderOutput(dataTable, element);\n",
              "          const docLink = document.createElement('div');\n",
              "          docLink.innerHTML = docLinkHtml;\n",
              "          element.appendChild(docLink);\n",
              "        }\n",
              "      </script>\n",
              "    </div>\n",
              "  </div>\n",
              "  "
            ]
          },
          "metadata": {},
          "execution_count": 60
        }
      ]
    },
    {
      "cell_type": "markdown",
      "source": [],
      "metadata": {
        "id": "PQkgjNvAdMid"
      }
    },
    {
      "cell_type": "code",
      "source": [
        "df_use = df_new2.iloc[500:700]\n",
        "df_use1 = df_use.iloc[:,[7,14 ]]\n",
        "df_use1"
      ],
      "metadata": {
        "id": "LesIyMl-Cjje",
        "colab": {
          "base_uri": "https://localhost:8080/",
          "height": 455
        },
        "outputId": "e49dc81f-38e0-4a7a-d1fb-58e8952bf784"
      },
      "execution_count": null,
      "outputs": [
        {
          "output_type": "execute_result",
          "data": {
            "text/plain": [
              "            GBP USD Log return  News Effect\n",
              "Date                                       \n",
              "2022-03-25           -0.000779     0.155091\n",
              "2022-03-28           -0.001477     0.179272\n",
              "2022-03-29           -0.005532     0.111593\n",
              "2022-03-30           -0.000747     0.114685\n",
              "2022-03-31            0.003436     0.175045\n",
              "...                        ...          ...\n",
              "2023-01-19            0.005111     0.218728\n",
              "2023-01-20            0.003686     0.265665\n",
              "2023-01-23            0.001054     0.265522\n",
              "2023-01-24           -0.002144     0.273287\n",
              "2023-01-25           -0.004089     0.230715\n",
              "\n",
              "[200 rows x 2 columns]"
            ],
            "text/html": [
              "\n",
              "  <div id=\"df-939ce350-92fe-479b-ae47-1f85dfe47987\">\n",
              "    <div class=\"colab-df-container\">\n",
              "      <div>\n",
              "<style scoped>\n",
              "    .dataframe tbody tr th:only-of-type {\n",
              "        vertical-align: middle;\n",
              "    }\n",
              "\n",
              "    .dataframe tbody tr th {\n",
              "        vertical-align: top;\n",
              "    }\n",
              "\n",
              "    .dataframe thead th {\n",
              "        text-align: right;\n",
              "    }\n",
              "</style>\n",
              "<table border=\"1\" class=\"dataframe\">\n",
              "  <thead>\n",
              "    <tr style=\"text-align: right;\">\n",
              "      <th></th>\n",
              "      <th>GBP USD Log return</th>\n",
              "      <th>News Effect</th>\n",
              "    </tr>\n",
              "    <tr>\n",
              "      <th>Date</th>\n",
              "      <th></th>\n",
              "      <th></th>\n",
              "    </tr>\n",
              "  </thead>\n",
              "  <tbody>\n",
              "    <tr>\n",
              "      <th>2022-03-25</th>\n",
              "      <td>-0.000779</td>\n",
              "      <td>0.155091</td>\n",
              "    </tr>\n",
              "    <tr>\n",
              "      <th>2022-03-28</th>\n",
              "      <td>-0.001477</td>\n",
              "      <td>0.179272</td>\n",
              "    </tr>\n",
              "    <tr>\n",
              "      <th>2022-03-29</th>\n",
              "      <td>-0.005532</td>\n",
              "      <td>0.111593</td>\n",
              "    </tr>\n",
              "    <tr>\n",
              "      <th>2022-03-30</th>\n",
              "      <td>-0.000747</td>\n",
              "      <td>0.114685</td>\n",
              "    </tr>\n",
              "    <tr>\n",
              "      <th>2022-03-31</th>\n",
              "      <td>0.003436</td>\n",
              "      <td>0.175045</td>\n",
              "    </tr>\n",
              "    <tr>\n",
              "      <th>...</th>\n",
              "      <td>...</td>\n",
              "      <td>...</td>\n",
              "    </tr>\n",
              "    <tr>\n",
              "      <th>2023-01-19</th>\n",
              "      <td>0.005111</td>\n",
              "      <td>0.218728</td>\n",
              "    </tr>\n",
              "    <tr>\n",
              "      <th>2023-01-20</th>\n",
              "      <td>0.003686</td>\n",
              "      <td>0.265665</td>\n",
              "    </tr>\n",
              "    <tr>\n",
              "      <th>2023-01-23</th>\n",
              "      <td>0.001054</td>\n",
              "      <td>0.265522</td>\n",
              "    </tr>\n",
              "    <tr>\n",
              "      <th>2023-01-24</th>\n",
              "      <td>-0.002144</td>\n",
              "      <td>0.273287</td>\n",
              "    </tr>\n",
              "    <tr>\n",
              "      <th>2023-01-25</th>\n",
              "      <td>-0.004089</td>\n",
              "      <td>0.230715</td>\n",
              "    </tr>\n",
              "  </tbody>\n",
              "</table>\n",
              "<p>200 rows × 2 columns</p>\n",
              "</div>\n",
              "      <button class=\"colab-df-convert\" onclick=\"convertToInteractive('df-939ce350-92fe-479b-ae47-1f85dfe47987')\"\n",
              "              title=\"Convert this dataframe to an interactive table.\"\n",
              "              style=\"display:none;\">\n",
              "        \n",
              "  <svg xmlns=\"http://www.w3.org/2000/svg\" height=\"24px\"viewBox=\"0 0 24 24\"\n",
              "       width=\"24px\">\n",
              "    <path d=\"M0 0h24v24H0V0z\" fill=\"none\"/>\n",
              "    <path d=\"M18.56 5.44l.94 2.06.94-2.06 2.06-.94-2.06-.94-.94-2.06-.94 2.06-2.06.94zm-11 1L8.5 8.5l.94-2.06 2.06-.94-2.06-.94L8.5 2.5l-.94 2.06-2.06.94zm10 10l.94 2.06.94-2.06 2.06-.94-2.06-.94-.94-2.06-.94 2.06-2.06.94z\"/><path d=\"M17.41 7.96l-1.37-1.37c-.4-.4-.92-.59-1.43-.59-.52 0-1.04.2-1.43.59L10.3 9.45l-7.72 7.72c-.78.78-.78 2.05 0 2.83L4 21.41c.39.39.9.59 1.41.59.51 0 1.02-.2 1.41-.59l7.78-7.78 2.81-2.81c.8-.78.8-2.07 0-2.86zM5.41 20L4 18.59l7.72-7.72 1.47 1.35L5.41 20z\"/>\n",
              "  </svg>\n",
              "      </button>\n",
              "      \n",
              "  <style>\n",
              "    .colab-df-container {\n",
              "      display:flex;\n",
              "      flex-wrap:wrap;\n",
              "      gap: 12px;\n",
              "    }\n",
              "\n",
              "    .colab-df-convert {\n",
              "      background-color: #E8F0FE;\n",
              "      border: none;\n",
              "      border-radius: 50%;\n",
              "      cursor: pointer;\n",
              "      display: none;\n",
              "      fill: #1967D2;\n",
              "      height: 32px;\n",
              "      padding: 0 0 0 0;\n",
              "      width: 32px;\n",
              "    }\n",
              "\n",
              "    .colab-df-convert:hover {\n",
              "      background-color: #E2EBFA;\n",
              "      box-shadow: 0px 1px 2px rgba(60, 64, 67, 0.3), 0px 1px 3px 1px rgba(60, 64, 67, 0.15);\n",
              "      fill: #174EA6;\n",
              "    }\n",
              "\n",
              "    [theme=dark] .colab-df-convert {\n",
              "      background-color: #3B4455;\n",
              "      fill: #D2E3FC;\n",
              "    }\n",
              "\n",
              "    [theme=dark] .colab-df-convert:hover {\n",
              "      background-color: #434B5C;\n",
              "      box-shadow: 0px 1px 3px 1px rgba(0, 0, 0, 0.15);\n",
              "      filter: drop-shadow(0px 1px 2px rgba(0, 0, 0, 0.3));\n",
              "      fill: #FFFFFF;\n",
              "    }\n",
              "  </style>\n",
              "\n",
              "      <script>\n",
              "        const buttonEl =\n",
              "          document.querySelector('#df-939ce350-92fe-479b-ae47-1f85dfe47987 button.colab-df-convert');\n",
              "        buttonEl.style.display =\n",
              "          google.colab.kernel.accessAllowed ? 'block' : 'none';\n",
              "\n",
              "        async function convertToInteractive(key) {\n",
              "          const element = document.querySelector('#df-939ce350-92fe-479b-ae47-1f85dfe47987');\n",
              "          const dataTable =\n",
              "            await google.colab.kernel.invokeFunction('convertToInteractive',\n",
              "                                                     [key], {});\n",
              "          if (!dataTable) return;\n",
              "\n",
              "          const docLinkHtml = 'Like what you see? Visit the ' +\n",
              "            '<a target=\"_blank\" href=https://colab.research.google.com/notebooks/data_table.ipynb>data table notebook</a>'\n",
              "            + ' to learn more about interactive tables.';\n",
              "          element.innerHTML = '';\n",
              "          dataTable['output_type'] = 'display_data';\n",
              "          await google.colab.output.renderOutput(dataTable, element);\n",
              "          const docLink = document.createElement('div');\n",
              "          docLink.innerHTML = docLinkHtml;\n",
              "          element.appendChild(docLink);\n",
              "        }\n",
              "      </script>\n",
              "    </div>\n",
              "  </div>\n",
              "  "
            ]
          },
          "metadata": {},
          "execution_count": 63
        }
      ]
    },
    {
      "cell_type": "code",
      "source": [
        "df_use1.plot(subplots=True, figsize=(12,5))\n",
        "plt.tight_layout()\n",
        "plt.show()\n"
      ],
      "metadata": {
        "id": "mDrc3GfOAd98",
        "colab": {
          "base_uri": "https://localhost:8080/",
          "height": 361
        },
        "outputId": "46bd7bbd-211b-451a-ffb8-f3a434c0f7e4"
      },
      "execution_count": null,
      "outputs": [
        {
          "output_type": "display_data",
          "data": {
            "text/plain": [
              "<Figure size 864x360 with 2 Axes>"
            ],
            "image/png": "[encoded data removed]"
          },
          "metadata": {}
        }
      ]
    },
    {
      "cell_type": "code",
      "source": [
        "# VAR 모형적합\n",
        "model_var = VAR(df_use1).fit(maxlags=2)\n",
        "display(model_var.summary())\n",
        "\n",
        "# # 예측 및 시각화\n",
        "forecast_num = 20\n",
        "model_var.plot_forecast(forecast_num)\n",
        "plt.tight_layout()\n",
        "plt.show()\n",
        "\n",
        "# 임펄스반응함수 추정\n",
        "model_var.irf(forecast_num).plot()\n",
        "plt.tight_layout()\n",
        "plt.show()\n",
        "\n",
        "# 잔차진단\n",
        "model_var.plot_acorr()\n",
        "plt.tight_layout()\n",
        "plt.show()"
      ],
      "metadata": {
        "id": "_xcm4x6eBmr3",
        "colab": {
          "base_uri": "https://localhost:8080/",
          "height": 1000
        },
        "outputId": "552db390-4b15-4849-f9ac-b49bbb1734b5"
      },
      "execution_count": null,
      "outputs": [
        {
          "output_type": "stream",
          "name": "stderr",
          "text": [
            "/usr/local/lib/python3.9/dist-packages/statsmodels/tsa/base/tsa_model.py:471: ValueWarning: A date index has been provided, but it has no associated frequency information and so will be ignored when e.g. forecasting.\n",
            "  self._init_dates(dates, freq)\n"
          ]
        },
        {
          "output_type": "display_data",
          "data": {
            "text/plain": [
              "  Summary of Regression Results   \n",
              "==================================\n",
              "Model:                         VAR\n",
              "Method:                        OLS\n",
              "Date:           Thu, 23, Mar, 2023\n",
              "Time:                     17:47:14\n",
              "--------------------------------------------------------------------\n",
              "No. of Equations:         2.00000    BIC:                   -13.9738\n",
              "Nobs:                     198.000    HQIC:                  -14.0727\n",
              "Log likelihood:           847.952    FPE:                7.22969e-07\n",
              "AIC:                     -14.1399    Det(Omega_mle):     6.87794e-07\n",
              "--------------------------------------------------------------------\n",
              "Results for equation GBP USD Log return\n",
              "========================================================================================\n",
              "                           coefficient       std. error           t-stat            prob\n",
              "----------------------------------------------------------------------------------------\n",
              "const                        -0.000400         0.001574           -0.254           0.799\n",
              "L1.GBP USD Log return         0.032649         0.071663            0.456           0.649\n",
              "L1.News Effect               -0.010323         0.005682           -1.817           0.069\n",
              "L2.GBP USD Log return         0.025743         0.071924            0.358           0.720\n",
              "L2.News Effect                0.010058         0.005674            1.773           0.076\n",
              "========================================================================================\n",
              "\n",
              "Results for equation News Effect\n",
              "========================================================================================\n",
              "                           coefficient       std. error           t-stat            prob\n",
              "----------------------------------------------------------------------------------------\n",
              "const                         0.071335         0.018891            3.776           0.000\n",
              "L1.GBP USD Log return         1.099009         0.859917            1.278           0.201\n",
              "L1.News Effect                0.479509         0.068181            7.033           0.000\n",
              "L2.GBP USD Log return        -1.233830         0.863050           -1.430           0.153\n",
              "L2.News Effect                0.301977         0.068083            4.435           0.000\n",
              "========================================================================================\n",
              "\n",
              "Correlation matrix of residuals\n",
              "                      GBP USD Log return  News Effect\n",
              "GBP USD Log return              1.000000    -0.124581\n",
              "News Effect                    -0.124581     1.000000\n",
              "\n"
            ]
          },
          "metadata": {}
        },
        {
          "output_type": "display_data",
          "data": {
            "text/plain": [
              "<Figure size 720x720 with 2 Axes>"
            ],
            "image/png": "[encoded data removed]"
          },
          "metadata": {}
        },
        {
          "output_type": "display_data",
          "data": {
            "text/plain": [
              "<Figure size 720x720 with 4 Axes>"
            ],
            "image/png": "[encoded data removed]"
          },
          "metadata": {}
        },
        {
          "output_type": "display_data",
          "data": {
            "text/plain": [
              "<Figure size 720x720 with 4 Axes>"
            ],
            "image/png": "[encoded data removed]"
          },
          "metadata": {}
        }
      ]
    },
    {
      "cell_type": "code",
      "source": [
        "df_use1 = df_use.iloc[:,[, 14 ]]\n",
        "df_use1"
      ],
      "metadata": {
        "id": "2hzT2pKpLHzW"
      },
      "execution_count": null,
      "outputs": []
    },
    {
      "cell_type": "code",
      "source": [],
      "metadata": {
        "id": "yj_4V9m-LIaH"
      },
      "execution_count": null,
      "outputs": []
    }
  ]
}